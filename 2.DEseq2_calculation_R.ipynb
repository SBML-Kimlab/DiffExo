{
 "cells": [
  {
   "cell_type": "markdown",
   "metadata": {},
   "source": [
    "# 0. Import Libraries"
   ]
  },
  {
   "cell_type": "code",
   "execution_count": 1,
   "metadata": {
    "collapsed": true
   },
   "outputs": [],
   "source": [
    "suppressPackageStartupMessages(library('Rsamtools'))\n",
    "suppressPackageStartupMessages(library('GenomicFeatures'))\n",
    "suppressPackageStartupMessages(library('GenomicAlignments'))\n",
    "suppressPackageStartupMessages(library('BiocParallel'))\n",
    "suppressPackageStartupMessages(library('SummarizedExperiment'))\n",
    "suppressPackageStartupMessages(library('SummarizedExperiment'))\n",
    "suppressPackageStartupMessages(library('GenomicFeatures'))\n",
    "suppressPackageStartupMessages(library('DESeq2'))"
   ]
  },
  {
   "cell_type": "markdown",
   "metadata": {},
   "source": [
    "# 1. Load BAM files"
   ]
  },
  {
   "cell_type": "code",
   "execution_count": 24,
   "metadata": {
    "collapsed": true
   },
   "outputs": [],
   "source": [
    "RAW_CSV <- '/home/parkjoonyoung/share/ChIP-exo_optimization/RPPM/0.GitHub/raw_csv_files/raw_DEseq2_HNS.csv'\n",
    "RPPM_Folder <- \"ChIP-mini_HNS\"\n",
    "REF_DIR <- '/Invivo_DEseq2_common_peaks_ref.gff'\n",
    "TEST_NAME <- \"Invitro_Invivo_HNS\"\n",
    "CON_NAME <- 'Invitro'\n",
    "EXP_NAME <- 'Invivo'\n",
    "QVAL <- 0.05\n",
    "LFC <- 1.0"
   ]
  },
  {
   "cell_type": "code",
   "execution_count": 25,
   "metadata": {
    "scrolled": true
   },
   "outputs": [
    {
     "data": {
      "text/html": [
       "<table>\n",
       "<caption>A data.frame: 4 × 3</caption>\n",
       "<thead>\n",
       "\t<tr><th></th><th scope=col>sample_id</th><th scope=col>BAM</th><th scope=col>Output</th></tr>\n",
       "\t<tr><th></th><th scope=col>&lt;fct&gt;</th><th scope=col>&lt;fct&gt;</th><th scope=col>&lt;fct&gt;</th></tr>\n",
       "</thead>\n",
       "<tbody>\n",
       "\t<tr><th scope=row>0</th><td>Invitro_1</td><td>/home/parkjoonyoung/share/ChIP-exo_optimization/RPPM/0.GitHub/raw_files/bam/ChIP-mini_M-invitro-Sal-HNS-1.bam</td><td>/media/sf_Share/ChIP-exo_optimization/RPPM/0.GitHub/output/</td></tr>\n",
       "\t<tr><th scope=row>1</th><td>Invitro_2</td><td>/home/parkjoonyoung/share/ChIP-exo_optimization/RPPM/0.GitHub/raw_files/bam/ChIP-mini_M-invitro-Sal-HNS-2.bam</td><td>/media/sf_Share/ChIP-exo_optimization/RPPM/0.GitHub/output/</td></tr>\n",
       "\t<tr><th scope=row>2</th><td>Invivo_1 </td><td>/home/parkjoonyoung/share/ChIP-exo_optimization/RPPM/0.GitHub/raw_files/bam/ChIP-mini_M-invivo-Sal-HNS-1.bam </td><td>/media/sf_Share/ChIP-exo_optimization/RPPM/0.GitHub/output/</td></tr>\n",
       "\t<tr><th scope=row>3</th><td>Invivo_2 </td><td>/home/parkjoonyoung/share/ChIP-exo_optimization/RPPM/0.GitHub/raw_files/bam/ChIP-mini_M-invivo-Sal-HNS-2.bam </td><td>/media/sf_Share/ChIP-exo_optimization/RPPM/0.GitHub/output/</td></tr>\n",
       "</tbody>\n",
       "</table>\n"
      ],
      "text/latex": [
       "A data.frame: 4 × 3\n",
       "\\begin{tabular}{r|lll}\n",
       "  & sample\\_id & BAM & Output\\\\\n",
       "  & <fct> & <fct> & <fct>\\\\\n",
       "\\hline\n",
       "\t0 & Invitro\\_1 & /home/parkjoonyoung/share/ChIP-exo\\_optimization/RPPM/0.GitHub/raw\\_files/bam/ChIP-mini\\_M-invitro-Sal-HNS-1.bam & /media/sf\\_Share/ChIP-exo\\_optimization/RPPM/0.GitHub/output/\\\\\n",
       "\t1 & Invitro\\_2 & /home/parkjoonyoung/share/ChIP-exo\\_optimization/RPPM/0.GitHub/raw\\_files/bam/ChIP-mini\\_M-invitro-Sal-HNS-2.bam & /media/sf\\_Share/ChIP-exo\\_optimization/RPPM/0.GitHub/output/\\\\\n",
       "\t2 & Invivo\\_1  & /home/parkjoonyoung/share/ChIP-exo\\_optimization/RPPM/0.GitHub/raw\\_files/bam/ChIP-mini\\_M-invivo-Sal-HNS-1.bam  & /media/sf\\_Share/ChIP-exo\\_optimization/RPPM/0.GitHub/output/\\\\\n",
       "\t3 & Invivo\\_2  & /home/parkjoonyoung/share/ChIP-exo\\_optimization/RPPM/0.GitHub/raw\\_files/bam/ChIP-mini\\_M-invivo-Sal-HNS-2.bam  & /media/sf\\_Share/ChIP-exo\\_optimization/RPPM/0.GitHub/output/\\\\\n",
       "\\end{tabular}\n"
      ],
      "text/markdown": [
       "\n",
       "A data.frame: 4 × 3\n",
       "\n",
       "| <!--/--> | sample_id &lt;fct&gt; | BAM &lt;fct&gt; | Output &lt;fct&gt; |\n",
       "|---|---|---|---|\n",
       "| 0 | Invitro_1 | /home/parkjoonyoung/share/ChIP-exo_optimization/RPPM/0.GitHub/raw_files/bam/ChIP-mini_M-invitro-Sal-HNS-1.bam | /media/sf_Share/ChIP-exo_optimization/RPPM/0.GitHub/output/ |\n",
       "| 1 | Invitro_2 | /home/parkjoonyoung/share/ChIP-exo_optimization/RPPM/0.GitHub/raw_files/bam/ChIP-mini_M-invitro-Sal-HNS-2.bam | /media/sf_Share/ChIP-exo_optimization/RPPM/0.GitHub/output/ |\n",
       "| 2 | Invivo_1  | /home/parkjoonyoung/share/ChIP-exo_optimization/RPPM/0.GitHub/raw_files/bam/ChIP-mini_M-invivo-Sal-HNS-1.bam  | /media/sf_Share/ChIP-exo_optimization/RPPM/0.GitHub/output/ |\n",
       "| 3 | Invivo_2  | /home/parkjoonyoung/share/ChIP-exo_optimization/RPPM/0.GitHub/raw_files/bam/ChIP-mini_M-invivo-Sal-HNS-2.bam  | /media/sf_Share/ChIP-exo_optimization/RPPM/0.GitHub/output/ |\n",
       "\n"
      ],
      "text/plain": [
       "  sample_id\n",
       "0 Invitro_1\n",
       "1 Invitro_2\n",
       "2 Invivo_1 \n",
       "3 Invivo_2 \n",
       "  BAM                                                                                                          \n",
       "0 /home/parkjoonyoung/share/ChIP-exo_optimization/RPPM/0.GitHub/raw_files/bam/ChIP-mini_M-invitro-Sal-HNS-1.bam\n",
       "1 /home/parkjoonyoung/share/ChIP-exo_optimization/RPPM/0.GitHub/raw_files/bam/ChIP-mini_M-invitro-Sal-HNS-2.bam\n",
       "2 /home/parkjoonyoung/share/ChIP-exo_optimization/RPPM/0.GitHub/raw_files/bam/ChIP-mini_M-invivo-Sal-HNS-1.bam \n",
       "3 /home/parkjoonyoung/share/ChIP-exo_optimization/RPPM/0.GitHub/raw_files/bam/ChIP-mini_M-invivo-Sal-HNS-2.bam \n",
       "  Output                                                     \n",
       "0 /media/sf_Share/ChIP-exo_optimization/RPPM/0.GitHub/output/\n",
       "1 /media/sf_Share/ChIP-exo_optimization/RPPM/0.GitHub/output/\n",
       "2 /media/sf_Share/ChIP-exo_optimization/RPPM/0.GitHub/output/\n",
       "3 /media/sf_Share/ChIP-exo_optimization/RPPM/0.GitHub/output/"
      ]
     },
     "metadata": {},
     "output_type": "display_data"
    }
   ],
   "source": [
    "sampleTable <- read.csv(RAW_CSV, row.names=1)\n",
    "head(sampleTable)"
   ]
  },
  {
   "cell_type": "markdown",
   "metadata": {},
   "source": [
    "Put filenames into a character vector and check that they all exist."
   ]
  },
  {
   "cell_type": "code",
   "execution_count": 26,
   "metadata": {},
   "outputs": [
    {
     "data": {
      "text/html": [
       "TRUE"
      ],
      "text/latex": [
       "TRUE"
      ],
      "text/markdown": [
       "TRUE"
      ],
      "text/plain": [
       "[1] TRUE"
      ]
     },
     "metadata": {},
     "output_type": "display_data"
    }
   ],
   "source": [
    "filenames <- as.character(sampleTable$BAM)\n",
    "output <- as.character(sampleTable$Output)[1]\n",
    "folder_dir <-paste(output,RPPM_Folder,sep=\"\")\n",
    "result_dir <- paste(folder_dir,'/DEseq2/',sep=\"\")\n",
    "all(file.exists(filenames))"
   ]
  },
  {
   "cell_type": "markdown",
   "metadata": {},
   "source": [
    "The BamFileList function prepares the BAM files to be processed. The `yieldSize` argument states how many reads can be processed at once (default 2,000,000). This can be increased to speed alignment time, or decreased to reduce memory load."
   ]
  },
  {
   "cell_type": "code",
   "execution_count": 27,
   "metadata": {
    "scrolled": true
   },
   "outputs": [
    {
     "data": {
      "text/plain": [
       "BamFileList of length 4\n",
       "names(4): ChIP-mini_M-invitro-Sal-HNS-1.bam ..."
      ]
     },
     "metadata": {},
     "output_type": "display_data"
    }
   ],
   "source": [
    "(bamfiles <- BamFileList(filenames, yieldSize=2000000))"
   ]
  },
  {
   "cell_type": "markdown",
   "metadata": {},
   "source": [
    "# 2. Load GFF File"
   ]
  },
  {
   "cell_type": "markdown",
   "metadata": {},
   "source": [
    "`makeTxDbFromGFF` loads the GFF file into a database.  \n",
    "`exonsBy` extracts the exons from the GFF file."
   ]
  },
  {
   "cell_type": "code",
   "execution_count": 28,
   "metadata": {},
   "outputs": [
    {
     "name": "stderr",
     "output_type": "stream",
     "text": [
      "Import genomic features from the file as a GRanges object ... OK\n",
      "Prepare the 'metadata' data frame ... OK\n",
      "Make the TxDb object ... OK\n"
     ]
    }
   ],
   "source": [
    "gff <- paste(folder_dir, REF_DIR, sep=\"\")\n",
    "txdb <- makeTxDbFromGFF(gff, format=\"gtf\")\n",
    "exons <- exonsBy(txdb, by=\"gene\")"
   ]
  },
  {
   "cell_type": "code",
   "execution_count": 29,
   "metadata": {
    "scrolled": true
   },
   "outputs": [
    {
     "data": {
      "text/plain": [
       "TxDb object:\n",
       "# Db type: TxDb\n",
       "# Supporting package: GenomicFeatures\n",
       "# Data source: /media/sf_Share/ChIP-exo_optimization/RPPM/0.GitHub/output/ChIP-mini_HNS/Invivo_DEseq2_common_peaks_ref.gff\n",
       "# Organism: NA\n",
       "# Taxonomy ID: NA\n",
       "# miRBase build ID: NA\n",
       "# Genome: NA\n",
       "# transcript_nrow: 642\n",
       "# exon_nrow: 642\n",
       "# cds_nrow: 0\n",
       "# Db created by: GenomicFeatures package from Bioconductor\n",
       "# Creation time: 2024-01-11 14:59:08 +0900 (Thu, 11 Jan 2024)\n",
       "# GenomicFeatures version at creation time: 1.34.8\n",
       "# RSQLite version at creation time: 2.1.1\n",
       "# DBSCHEMAVERSION: 1.2"
      ]
     },
     "metadata": {},
     "output_type": "display_data"
    }
   ],
   "source": [
    "txdb"
   ]
  },
  {
   "cell_type": "markdown",
   "metadata": {},
   "source": [
    "# 3. Count Reads"
   ]
  },
  {
   "cell_type": "markdown",
   "metadata": {},
   "source": [
    "`summarizeOverlaps` counts the number of reads that overlap each gene in the GFF file. First, we intialize the multiprocessing, using the `workers` argument to set the number of cores to use. The `summarizeOverlaps` arguments are as follows:\n",
    "* `features`: The genomic features loaded in the previous code block\n",
    "* `reads`: The bam files listed above\n",
    "* `mode`: How to deal with potential overlaps. See [HTSeq-count](http://www-huber.embl.de/HTSeq/doc/count.html) documentation.\n",
    "* `singleEnd`: TRUE if single-end, FALSE if paired-end\n",
    "* `ignore.strand`: Whether the strand information is useful for mapping, based on library preparation method\n",
    "    * TRUE: Standard Illumina\n",
    "    * FALSE: Directional Illumina (Ligation), Standard SOLiD, dUTP, NSR, NNSR\n",
    "* `preprocess.reads` (optional): Modify reads before aligning\n",
    "    * invertStrand: Necessary for dUTP, NSR and NNSR library preparation methods\n",
    "* `fragments`: Whether to count unpaired reads"
   ]
  },
  {
   "cell_type": "code",
   "execution_count": 30,
   "metadata": {},
   "outputs": [
    {
     "name": "stderr",
     "output_type": "stream",
     "text": [
      "Error in (function (x)  : 함수가 아닌것에 적용하려고 합니다\n"
     ]
    }
   ],
   "source": [
    "register(MulticoreParam(workers = 8))\n",
    "se <- summarizeOverlaps(features=exons, reads=bamfiles,\n",
    "                        mode=\"IntersectionNotEmpty\",\n",
    "                        singleEnd=TRUE,\n",
    "                        ignore.strand=TRUE,\n",
    "                        fragments=FALSE)"
   ]
  },
  {
   "cell_type": "markdown",
   "metadata": {},
   "source": [
    "The final counts are stored in the [SummarizedExperiment](https://www.bioconductor.org/help/workflows/rnaseqGene/#summarizedexperiment) object. "
   ]
  },
  {
   "cell_type": "code",
   "execution_count": 31,
   "metadata": {},
   "outputs": [
    {
     "data": {
      "text/plain": [
       "class: RangedSummarizedExperiment \n",
       "dim: 642 4 \n",
       "metadata(0):\n",
       "assays(1): counts\n",
       "rownames(642): p0001 p0002 ... p0641 p0642\n",
       "rowData names(0):\n",
       "colnames(4): ChIP-mini_M-invitro-Sal-HNS-1.bam\n",
       "  ChIP-mini_M-invitro-Sal-HNS-2.bam ChIP-mini_M-invivo-Sal-HNS-1.bam\n",
       "  ChIP-mini_M-invivo-Sal-HNS-2.bam\n",
       "colData names(0):"
      ]
     },
     "metadata": {},
     "output_type": "display_data"
    }
   ],
   "source": [
    "se"
   ]
  },
  {
   "cell_type": "markdown",
   "metadata": {},
   "source": [
    "Let's add the metadata information into colData, and set the colnames"
   ]
  },
  {
   "cell_type": "code",
   "execution_count": 32,
   "metadata": {
    "collapsed": true
   },
   "outputs": [],
   "source": [
    "metadata <- sampleTable\n",
    "colData(se) <- DataFrame(metadata)\n",
    "colnames(se) <- colData(se)$sample_id"
   ]
  },
  {
   "cell_type": "markdown",
   "metadata": {},
   "source": [
    "To view raw counts, use `assay(se)`"
   ]
  },
  {
   "cell_type": "code",
   "execution_count": 33,
   "metadata": {},
   "outputs": [
    {
     "data": {
      "text/html": [
       "<table>\n",
       "<caption>A matrix: 6 × 4 of type int</caption>\n",
       "<thead>\n",
       "\t<tr><th></th><th scope=col>Invitro_1</th><th scope=col>Invitro_2</th><th scope=col>Invivo_1</th><th scope=col>Invivo_2</th></tr>\n",
       "</thead>\n",
       "<tbody>\n",
       "\t<tr><th scope=row>p0001</th><td>12657</td><td>13818</td><td>16556</td><td>16210</td></tr>\n",
       "\t<tr><th scope=row>p0002</th><td> 9680</td><td>10519</td><td>15660</td><td>15854</td></tr>\n",
       "\t<tr><th scope=row>p0003</th><td> 9422</td><td>10467</td><td>14025</td><td>13882</td></tr>\n",
       "\t<tr><th scope=row>p0004</th><td>25280</td><td>27512</td><td>33904</td><td>34675</td></tr>\n",
       "\t<tr><th scope=row>p0005</th><td>22239</td><td>24518</td><td>26002</td><td>26428</td></tr>\n",
       "\t<tr><th scope=row>p0006</th><td>13829</td><td>15208</td><td>19207</td><td>19284</td></tr>\n",
       "</tbody>\n",
       "</table>\n"
      ],
      "text/latex": [
       "A matrix: 6 × 4 of type int\n",
       "\\begin{tabular}{r|llll}\n",
       "  & Invitro\\_1 & Invitro\\_2 & Invivo\\_1 & Invivo\\_2\\\\\n",
       "\\hline\n",
       "\tp0001 & 12657 & 13818 & 16556 & 16210\\\\\n",
       "\tp0002 &  9680 & 10519 & 15660 & 15854\\\\\n",
       "\tp0003 &  9422 & 10467 & 14025 & 13882\\\\\n",
       "\tp0004 & 25280 & 27512 & 33904 & 34675\\\\\n",
       "\tp0005 & 22239 & 24518 & 26002 & 26428\\\\\n",
       "\tp0006 & 13829 & 15208 & 19207 & 19284\\\\\n",
       "\\end{tabular}\n"
      ],
      "text/markdown": [
       "\n",
       "A matrix: 6 × 4 of type int\n",
       "\n",
       "| <!--/--> | Invitro_1 | Invitro_2 | Invivo_1 | Invivo_2 |\n",
       "|---|---|---|---|---|\n",
       "| p0001 | 12657 | 13818 | 16556 | 16210 |\n",
       "| p0002 |  9680 | 10519 | 15660 | 15854 |\n",
       "| p0003 |  9422 | 10467 | 14025 | 13882 |\n",
       "| p0004 | 25280 | 27512 | 33904 | 34675 |\n",
       "| p0005 | 22239 | 24518 | 26002 | 26428 |\n",
       "| p0006 | 13829 | 15208 | 19207 | 19284 |\n",
       "\n"
      ],
      "text/plain": [
       "      Invitro_1 Invitro_2 Invivo_1 Invivo_2\n",
       "p0001 12657     13818     16556    16210   \n",
       "p0002  9680     10519     15660    15854   \n",
       "p0003  9422     10467     14025    13882   \n",
       "p0004 25280     27512     33904    34675   \n",
       "p0005 22239     24518     26002    26428   \n",
       "p0006 13829     15208     19207    19284   "
      ]
     },
     "metadata": {},
     "output_type": "display_data"
    }
   ],
   "source": [
    "head(assay(se))"
   ]
  },
  {
   "cell_type": "markdown",
   "metadata": {},
   "source": [
    "Finally, save the summarizedExperiment object as a checkpoint"
   ]
  },
  {
   "cell_type": "code",
   "execution_count": 34,
   "metadata": {},
   "outputs": [
    {
     "data": {
      "text/html": [
       "<ol class=list-inline>\n",
       "\t<li>'Invitro_1'</li>\n",
       "\t<li>'Invitro_2'</li>\n",
       "\t<li>'Invivo_1'</li>\n",
       "\t<li>'Invivo_2'</li>\n",
       "</ol>\n"
      ],
      "text/latex": [
       "\\begin{enumerate*}\n",
       "\\item 'Invitro\\_1'\n",
       "\\item 'Invitro\\_2'\n",
       "\\item 'Invivo\\_1'\n",
       "\\item 'Invivo\\_2'\n",
       "\\end{enumerate*}\n"
      ],
      "text/markdown": [
       "1. 'Invitro_1'\n",
       "2. 'Invitro_2'\n",
       "3. 'Invivo_1'\n",
       "4. 'Invivo_2'\n",
       "\n",
       "\n"
      ],
      "text/plain": [
       "[1] \"Invitro_1\" \"Invitro_2\" \"Invivo_1\"  \"Invivo_2\" "
      ]
     },
     "metadata": {},
     "output_type": "display_data"
    },
    {
     "data": {
      "text/html": [
       "<ol class=list-inline>\n",
       "\t<li>'Invitro'</li>\n",
       "\t<li>'Invitro'</li>\n",
       "\t<li>'Invivo'</li>\n",
       "\t<li>'Invivo'</li>\n",
       "</ol>\n"
      ],
      "text/latex": [
       "\\begin{enumerate*}\n",
       "\\item 'Invitro'\n",
       "\\item 'Invitro'\n",
       "\\item 'Invivo'\n",
       "\\item 'Invivo'\n",
       "\\end{enumerate*}\n"
      ],
      "text/markdown": [
       "1. 'Invitro'\n",
       "2. 'Invitro'\n",
       "3. 'Invivo'\n",
       "4. 'Invivo'\n",
       "\n",
       "\n"
      ],
      "text/plain": [
       "[1] \"Invitro\" \"Invitro\" \"Invivo\"  \"Invivo\" "
      ]
     },
     "metadata": {},
     "output_type": "display_data"
    }
   ],
   "source": [
    "colnames(se)\n",
    "# Designate groups for comparisons by removing the replicate subscript from colnames\n",
    "colData(se)$group <- gsub('.{2}$', '', colnames(se))\n",
    "colData(se)$group"
   ]
  },
  {
   "cell_type": "code",
   "execution_count": 35,
   "metadata": {},
   "outputs": [
    {
     "name": "stderr",
     "output_type": "stream",
     "text": [
      "Warning message in DESeqDataSet(se, design = ~group):\n",
      "“some variables in design formula are characters, converting to factors”"
     ]
    },
    {
     "data": {
      "text/html": [
       "642"
      ],
      "text/latex": [
       "642"
      ],
      "text/markdown": [
       "642"
      ],
      "text/plain": [
       "[1] 642"
      ]
     },
     "metadata": {},
     "output_type": "display_data"
    },
    {
     "data": {
      "text/html": [
       "642"
      ],
      "text/latex": [
       "642"
      ],
      "text/markdown": [
       "642"
      ],
      "text/plain": [
       "[1] 642"
      ]
     },
     "metadata": {},
     "output_type": "display_data"
    },
    {
     "data": {
      "text/html": [
       "<table>\n",
       "<caption>A matrix: 6 × 4 of type int</caption>\n",
       "<thead>\n",
       "\t<tr><th></th><th scope=col>Invitro_1</th><th scope=col>Invitro_2</th><th scope=col>Invivo_1</th><th scope=col>Invivo_2</th></tr>\n",
       "</thead>\n",
       "<tbody>\n",
       "\t<tr><th scope=row>p0001</th><td>12657</td><td>13818</td><td>16556</td><td>16210</td></tr>\n",
       "\t<tr><th scope=row>p0002</th><td> 9680</td><td>10519</td><td>15660</td><td>15854</td></tr>\n",
       "\t<tr><th scope=row>p0003</th><td> 9422</td><td>10467</td><td>14025</td><td>13882</td></tr>\n",
       "\t<tr><th scope=row>p0004</th><td>25280</td><td>27512</td><td>33904</td><td>34675</td></tr>\n",
       "\t<tr><th scope=row>p0005</th><td>22239</td><td>24518</td><td>26002</td><td>26428</td></tr>\n",
       "\t<tr><th scope=row>p0006</th><td>13829</td><td>15208</td><td>19207</td><td>19284</td></tr>\n",
       "</tbody>\n",
       "</table>\n"
      ],
      "text/latex": [
       "A matrix: 6 × 4 of type int\n",
       "\\begin{tabular}{r|llll}\n",
       "  & Invitro\\_1 & Invitro\\_2 & Invivo\\_1 & Invivo\\_2\\\\\n",
       "\\hline\n",
       "\tp0001 & 12657 & 13818 & 16556 & 16210\\\\\n",
       "\tp0002 &  9680 & 10519 & 15660 & 15854\\\\\n",
       "\tp0003 &  9422 & 10467 & 14025 & 13882\\\\\n",
       "\tp0004 & 25280 & 27512 & 33904 & 34675\\\\\n",
       "\tp0005 & 22239 & 24518 & 26002 & 26428\\\\\n",
       "\tp0006 & 13829 & 15208 & 19207 & 19284\\\\\n",
       "\\end{tabular}\n"
      ],
      "text/markdown": [
       "\n",
       "A matrix: 6 × 4 of type int\n",
       "\n",
       "| <!--/--> | Invitro_1 | Invitro_2 | Invivo_1 | Invivo_2 |\n",
       "|---|---|---|---|---|\n",
       "| p0001 | 12657 | 13818 | 16556 | 16210 |\n",
       "| p0002 |  9680 | 10519 | 15660 | 15854 |\n",
       "| p0003 |  9422 | 10467 | 14025 | 13882 |\n",
       "| p0004 | 25280 | 27512 | 33904 | 34675 |\n",
       "| p0005 | 22239 | 24518 | 26002 | 26428 |\n",
       "| p0006 | 13829 | 15208 | 19207 | 19284 |\n",
       "\n"
      ],
      "text/plain": [
       "      Invitro_1 Invitro_2 Invivo_1 Invivo_2\n",
       "p0001 12657     13818     16556    16210   \n",
       "p0002  9680     10519     15660    15854   \n",
       "p0003  9422     10467     14025    13882   \n",
       "p0004 25280     27512     33904    34675   \n",
       "p0005 22239     24518     26002    26428   \n",
       "p0006 13829     15208     19207    19284   "
      ]
     },
     "metadata": {},
     "output_type": "display_data"
    }
   ],
   "source": [
    "dds <- DESeqDataSet(se, design = ~group)\n",
    "nrow(dds)\n",
    "dds <- dds[rowSums(assay(dds)) > 0, ]\n",
    "nrow(dds)\n",
    "head(assay(dds))"
   ]
  },
  {
   "cell_type": "markdown",
   "metadata": {},
   "source": [
    "# 4. DEseq2"
   ]
  },
  {
   "cell_type": "code",
   "execution_count": 36,
   "metadata": {},
   "outputs": [
    {
     "name": "stderr",
     "output_type": "stream",
     "text": [
      "estimating size factors\n",
      "estimating dispersions\n",
      "gene-wise dispersion estimates\n",
      "mean-dispersion relationship\n",
      "final dispersion estimates\n",
      "fitting model and testing\n"
     ]
    }
   ],
   "source": [
    "dds <- DESeq(dds)"
   ]
  },
  {
   "cell_type": "code",
   "execution_count": 37,
   "metadata": {
    "collapsed": true
   },
   "outputs": [],
   "source": [
    "res <- results(dds,contrast = c('group',EXP_NAME,CON_NAME)) "
   ]
  },
  {
   "cell_type": "code",
   "execution_count": 38,
   "metadata": {
    "collapsed": true
   },
   "outputs": [],
   "source": [
    "resTable <- data.frame(res@listData,row.names = res@rownames)"
   ]
  },
  {
   "cell_type": "code",
   "execution_count": 39,
   "metadata": {},
   "outputs": [
    {
     "data": {
      "text/html": [
       "<table>\n",
       "<caption>A data.frame: 6 × 6</caption>\n",
       "<thead>\n",
       "\t<tr><th></th><th scope=col>baseMean</th><th scope=col>log2FoldChange</th><th scope=col>lfcSE</th><th scope=col>stat</th><th scope=col>pvalue</th><th scope=col>padj</th></tr>\n",
       "\t<tr><th></th><th scope=col>&lt;dbl&gt;</th><th scope=col>&lt;dbl&gt;</th><th scope=col>&lt;dbl&gt;</th><th scope=col>&lt;dbl&gt;</th><th scope=col>&lt;dbl&gt;</th><th scope=col>&lt;dbl&gt;</th></tr>\n",
       "</thead>\n",
       "<tbody>\n",
       "\t<tr><th scope=row>p0001</th><td>14711.90</td><td> 0.005224871</td><td>0.02954586</td><td> 0.1768393</td><td>8.596346e-01</td><td>8.712421e-01</td></tr>\n",
       "\t<tr><th scope=row>p0002</th><td>12689.48</td><td> 0.339106077</td><td>0.02974371</td><td>11.4009335</td><td>4.136597e-30</td><td>1.562174e-29</td></tr>\n",
       "\t<tr><th scope=row>p0003</th><td>11790.06</td><td> 0.186727264</td><td>0.03162814</td><td> 5.9038335</td><td>3.551506e-09</td><td>6.080178e-09</td></tr>\n",
       "\t<tr><th scope=row>p0004</th><td>30063.95</td><td> 0.074827285</td><td>0.02082085</td><td> 3.5938625</td><td>3.258119e-04</td><td>4.422224e-04</td></tr>\n",
       "\t<tr><th scope=row>p0005</th><td>24755.03</td><td>-0.137029946</td><td>0.02227130</td><td>-6.1527583</td><td>7.614683e-10</td><td>1.343029e-09</td></tr>\n",
       "\t<tr><th scope=row>p0006</th><td>16707.92</td><td> 0.104370753</td><td>0.02639372</td><td> 3.9543778</td><td>7.673407e-05</td><td>1.080335e-04</td></tr>\n",
       "</tbody>\n",
       "</table>\n"
      ],
      "text/latex": [
       "A data.frame: 6 × 6\n",
       "\\begin{tabular}{r|llllll}\n",
       "  & baseMean & log2FoldChange & lfcSE & stat & pvalue & padj\\\\\n",
       "  & <dbl> & <dbl> & <dbl> & <dbl> & <dbl> & <dbl>\\\\\n",
       "\\hline\n",
       "\tp0001 & 14711.90 &  0.005224871 & 0.02954586 &  0.1768393 & 8.596346e-01 & 8.712421e-01\\\\\n",
       "\tp0002 & 12689.48 &  0.339106077 & 0.02974371 & 11.4009335 & 4.136597e-30 & 1.562174e-29\\\\\n",
       "\tp0003 & 11790.06 &  0.186727264 & 0.03162814 &  5.9038335 & 3.551506e-09 & 6.080178e-09\\\\\n",
       "\tp0004 & 30063.95 &  0.074827285 & 0.02082085 &  3.5938625 & 3.258119e-04 & 4.422224e-04\\\\\n",
       "\tp0005 & 24755.03 & -0.137029946 & 0.02227130 & -6.1527583 & 7.614683e-10 & 1.343029e-09\\\\\n",
       "\tp0006 & 16707.92 &  0.104370753 & 0.02639372 &  3.9543778 & 7.673407e-05 & 1.080335e-04\\\\\n",
       "\\end{tabular}\n"
      ],
      "text/markdown": [
       "\n",
       "A data.frame: 6 × 6\n",
       "\n",
       "| <!--/--> | baseMean &lt;dbl&gt; | log2FoldChange &lt;dbl&gt; | lfcSE &lt;dbl&gt; | stat &lt;dbl&gt; | pvalue &lt;dbl&gt; | padj &lt;dbl&gt; |\n",
       "|---|---|---|---|---|---|---|\n",
       "| p0001 | 14711.90 |  0.005224871 | 0.02954586 |  0.1768393 | 8.596346e-01 | 8.712421e-01 |\n",
       "| p0002 | 12689.48 |  0.339106077 | 0.02974371 | 11.4009335 | 4.136597e-30 | 1.562174e-29 |\n",
       "| p0003 | 11790.06 |  0.186727264 | 0.03162814 |  5.9038335 | 3.551506e-09 | 6.080178e-09 |\n",
       "| p0004 | 30063.95 |  0.074827285 | 0.02082085 |  3.5938625 | 3.258119e-04 | 4.422224e-04 |\n",
       "| p0005 | 24755.03 | -0.137029946 | 0.02227130 | -6.1527583 | 7.614683e-10 | 1.343029e-09 |\n",
       "| p0006 | 16707.92 |  0.104370753 | 0.02639372 |  3.9543778 | 7.673407e-05 | 1.080335e-04 |\n",
       "\n"
      ],
      "text/plain": [
       "      baseMean log2FoldChange lfcSE      stat       pvalue       padj        \n",
       "p0001 14711.90  0.005224871   0.02954586  0.1768393 8.596346e-01 8.712421e-01\n",
       "p0002 12689.48  0.339106077   0.02974371 11.4009335 4.136597e-30 1.562174e-29\n",
       "p0003 11790.06  0.186727264   0.03162814  5.9038335 3.551506e-09 6.080178e-09\n",
       "p0004 30063.95  0.074827285   0.02082085  3.5938625 3.258119e-04 4.422224e-04\n",
       "p0005 24755.03 -0.137029946   0.02227130 -6.1527583 7.614683e-10 1.343029e-09\n",
       "p0006 16707.92  0.104370753   0.02639372  3.9543778 7.673407e-05 1.080335e-04"
      ]
     },
     "metadata": {},
     "output_type": "display_data"
    }
   ],
   "source": [
    "head(resTable)"
   ]
  },
  {
   "cell_type": "code",
   "execution_count": 40,
   "metadata": {
    "collapsed": true
   },
   "outputs": [],
   "source": [
    "total_deg_dir <- paste(result_dir, TEST_NAME,'_total.csv',sep=\"\")\n",
    "write.csv(resTable, total_deg_dir, row.names=T, quote=T)"
   ]
  },
  {
   "cell_type": "code",
   "execution_count": 41,
   "metadata": {
    "collapsed": true
   },
   "outputs": [],
   "source": [
    "deg <- resTable[complete.cases(resTable[,c('padj','log2FoldChange')]) & \n",
    "                            # Make sure that LogFoldChange and p-adjusted are complete (not null)\n",
    "                            resTable$padj < QVAL & # Adjusted p-value cutoff of 0.05\n",
    "                            abs(resTable$log2FoldChange) > LFC,] # abs(log2foldChange) cutoff of 1"
   ]
  },
  {
   "cell_type": "code",
   "execution_count": 42,
   "metadata": {
    "collapsed": true
   },
   "outputs": [],
   "source": [
    "deg_dir <- paste(result_dir, TEST_NAME,'_deg.csv',sep=\"\")\n",
    "write.csv(deg, deg_dir, row.names=T, quote=T)"
   ]
  },
  {
   "cell_type": "code",
   "execution_count": null,
   "metadata": {
    "collapsed": true
   },
   "outputs": [],
   "source": []
  }
 ],
 "metadata": {
  "kernelspec": {
   "display_name": "R",
   "language": "R",
   "name": "ir"
  },
  "language_info": {
   "codemirror_mode": "r",
   "file_extension": ".r",
   "mimetype": "text/x-r-source",
   "name": "R",
   "pygments_lexer": "r",
   "version": "3.5.1"
  },
  "toc": {
   "nav_menu": {},
   "number_sections": true,
   "sideBar": true,
   "skip_h1_title": false,
   "title_cell": "Table of Contents",
   "title_sidebar": "Contents",
   "toc_cell": true,
   "toc_position": {},
   "toc_section_display": true,
   "toc_window_display": false
  }
 },
 "nbformat": 4,
 "nbformat_minor": 1
}
