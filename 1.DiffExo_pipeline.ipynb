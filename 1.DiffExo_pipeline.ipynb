{
 "cells": [
  {
   "cell_type": "markdown",
   "id": "71a4de94",
   "metadata": {},
   "source": [
    "# 0-1.Import library"
   ]
  },
  {
   "cell_type": "code",
   "execution_count": 1,
   "id": "ec6e2d66",
   "metadata": {},
   "outputs": [],
   "source": [
    "import os\n",
    "import os.path\n",
    "import pandas as pd\n",
    "import pickle"
   ]
  },
  {
   "cell_type": "markdown",
   "id": "9a1bd39f",
   "metadata": {},
   "source": [
    "# 0-2.Import Modules"
   ]
  },
  {
   "cell_type": "code",
   "execution_count": 2,
   "id": "3f4f2134",
   "metadata": {},
   "outputs": [],
   "source": [
    "import localPNC as lp\n",
    "import DEseq2Tools as dt\n",
    "import StatAnalysis as sa\n",
    "import PlotTools as pt"
   ]
  },
  {
   "cell_type": "markdown",
   "id": "5bc7bfc5",
   "metadata": {},
   "source": [
    "# 0-0. Load PNC Dataset"
   ]
  },
  {
   "cell_type": "markdown",
   "id": "25cc4d71",
   "metadata": {},
   "source": [
    "1. Load information for DiffExo pipeline (raw_PNC_XXX.csv) "
   ]
  },
  {
   "cell_type": "code",
   "execution_count": 9,
   "id": "9861909d",
   "metadata": {},
   "outputs": [],
   "source": [
    "test_name = \"ChIP-mini_HNS\"\n",
    "raw_df_dir = \"/home/joonyoung/share/ChIP-exo_optimization/RPPM/0.GitHub/raw_csv_files/raw_PNC_HNS.csv\"\n",
    "raw_df = lp.load_csv(raw_df_dir)"
   ]
  },
  {
   "cell_type": "markdown",
   "id": "eb5e4846",
   "metadata": {},
   "source": [
    "# 0-1. Make Output Directory"
   ]
  },
  {
   "cell_type": "markdown",
   "id": "b51c9711",
   "metadata": {},
   "source": [
    "1. Make result folders in output directory. \n",
    "2. Modifiy output directory in raw_df csv file.  \n",
    "3. Execute this code only once when the DiffExo pipeline starts."
   ]
  },
  {
   "cell_type": "code",
   "execution_count": 10,
   "id": "52e1ce47",
   "metadata": {},
   "outputs": [],
   "source": [
    "os.chdir(raw_df.output[0])\n",
    "os.mkdir(test_name)\n",
    "os.chdir(raw_df.output[0] + \"/\" + test_name)\n",
    "os.mkdir(\"plots\")\n",
    "os.mkdir(\"DEseq2\")\n",
    "output_dir = str(os.getcwd()) + \"/\"\n",
    "raw_df[\"output\"] = output_dir\n",
    "raw_df.to_csv(raw_df_dir)"
   ]
  },
  {
   "cell_type": "markdown",
   "id": "62b031b0",
   "metadata": {},
   "source": [
    "# 1. Calculate RPPM"
   ]
  },
  {
   "cell_type": "markdown",
   "id": "4c4a74f9",
   "metadata": {},
   "source": [
    "### start_PNC(raw_df, test_name) ###\n",
    "**1. test_name** = test name for RPPM calculation  \n",
    "**2. raw_df** = raw CSV file of NPC  \n",
    "1) rppm_df = RPPM values of ChIP-mini or ChIP-exo samlpes inculding dulicates  =>  converted to pickle and CSV files in the output dir  \n",
    "2) rppm_mean_df = RPPM mean values of samlpes =>  converted to pickle and CSV files in the output dir  "
   ]
  },
  {
   "cell_type": "code",
   "execution_count": 13,
   "id": "5d2b3b6c",
   "metadata": {},
   "outputs": [
    {
     "name": "stdout",
     "output_type": "stream",
     "text": [
      "Sample ID: Invitro RPPM calculation is done!\n",
      "Sample ID: Invivo RPPM calculation is done!\n"
     ]
    }
   ],
   "source": [
    "rppm_df, rppm_mean_df = lp.start_PNC(raw_df, test_name)"
   ]
  },
  {
   "cell_type": "markdown",
   "id": "c6f40a9c",
   "metadata": {},
   "source": [
    "# 2. Statistical Analysis"
   ]
  },
  {
   "cell_type": "markdown",
   "id": "f765fadd",
   "metadata": {},
   "source": [
    "### stat_test(raw_df, rppm_mean_df, test)  ###\n",
    "**1. raw_df** = Raw CSV file of NPC  \n",
    "**2. rppm_mean_df** = RPPM mean dataframe or RPPM mean pickle file  \n",
    "**3. test** = Type of statistical test (parametric, nonparametric, default = \"auto\"), parmetric => analyze overlapping binding sites  \n",
    "**4. replicates** = statistical anlaysis for replicates (default = False, Use XXX_rppm.pickle)  "
   ]
  },
  {
   "cell_type": "markdown",
   "id": "7dad7b51",
   "metadata": {},
   "source": [
    "# 2.1 Statistical Analysis for Replicates"
   ]
  },
  {
   "cell_type": "code",
   "execution_count": 14,
   "id": "2f1f5e07",
   "metadata": {},
   "outputs": [],
   "source": [
    "rppm_pickle_dir = \"/home/joonyoung/share/ChIP-exo_optimization/RPPM/0.GitHub/output/ChIP-mini_HNS/ChIP-mini_HNS_rppm.pickle\""
   ]
  },
  {
   "cell_type": "code",
   "execution_count": 15,
   "id": "b15534df",
   "metadata": {},
   "outputs": [
    {
     "name": "stdout",
     "output_type": "stream",
     "text": [
      "Leven's test p-value of Invitro replicates = 0.9605733741174836\n",
      "T-test p-value of Invitro replicates = 0.9387933302893203\n",
      "Leven's test p-value of Invivo replicates = 0.9142735333501767\n",
      "T-test p-value of Invivo replicates = 0.9895946367642672\n"
     ]
    }
   ],
   "source": [
    "#Total RPPM including genome and plasmid\n",
    "sa.stat_test(raw_df, rppm_pickle_dir, test = \"auto\", replicates = True)"
   ]
  },
  {
   "cell_type": "code",
   "execution_count": 16,
   "id": "b99624ea",
   "metadata": {},
   "outputs": [
    {
     "name": "stdout",
     "output_type": "stream",
     "text": [
      "Leven's test p-value of Invitro replicates = 0.9622211823558275\n",
      "T-test p-value of Invitro replicates = 0.9353855033378895\n",
      "Leven's test p-value of Invivo replicates = 0.8898123589243354\n",
      "T-test p-value of Invivo replicates = 0.9837177051942779\n"
     ]
    }
   ],
   "source": [
    "# RPPM of genome\n",
    "genome_vitro = rppm_df.loc[(rppm_mean_df.Invitro_genome_id == \"NC_016856.1\"), \n",
    "                                [\"Invitro_genome_id\", \"Invitro_start\", \"Invitro_end\", \"Invitro_1\", \"Invitro_2\"]]\n",
    "genome_vivo = rppm_df.loc[(rppm_mean_df.Invivo_genome_id == \"NC_016856.1\"), \n",
    "                               [\"Invivo_genome_id\", \"Invivo_start\", \"Invivo_end\", \"Invivo_1\", \"Invivo_2\"]]\n",
    "genome = pd.concat([genome_vitro.reset_index(drop = True), genome_vivo.reset_index(drop = True)], axis = 1)\n",
    "\n",
    "sa.stat_test(raw_df, genome, test = \"auto\", replicates = True)"
   ]
  },
  {
   "cell_type": "code",
   "execution_count": 17,
   "id": "8a2c1e74",
   "metadata": {},
   "outputs": [
    {
     "name": "stdout",
     "output_type": "stream",
     "text": [
      "Shapiro-wilk test p-value of Invitro_1 replicates = 0.34109777212142944\n",
      "Shapiro-wilk test p-value of Invitro_2 replicates = 0.3551477789878845\n",
      "Leven's test p-value of Invitro replicates = 0.9634812198558433\n",
      "T-test p-value of Invitro replicates = 0.9940316331175959\n",
      "Shapiro-wilk test p-value of Invivo_1 replicates = 0.6924270987510681\n",
      "Shapiro-wilk test p-value of Invivo_2 replicates = 0.7507525682449341\n",
      "Leven's test p-value of Invivo replicates = 0.8808121185531406\n",
      "T-test p-value of Invivo replicates = 0.9929867043813583\n"
     ]
    }
   ],
   "source": [
    "plasmid_vitro = rppm_df.loc[(rppm_mean_df.Invitro_genome_id == \"NC_016855.1\"), \n",
    "                                 [\"Invitro_genome_id\", \"Invitro_start\", \"Invitro_end\", \"Invitro_1\", \"Invitro_2\"]]\n",
    "plasmid_vivo = rppm_df.loc[(rppm_mean_df.Invivo_genome_id == \"NC_016855.1\"), \n",
    "                                [\"Invivo_genome_id\", \"Invivo_start\", \"Invivo_end\", \"Invivo_1\", \"Invivo_2\"]]\n",
    "plasmid = pd.concat([plasmid_vitro.reset_index(drop = True), plasmid_vivo.reset_index(drop = True)], axis = 1)\n",
    "\n",
    "sa.stat_test(raw_df, plasmid, test = \"auto\", replicates = True)"
   ]
  },
  {
   "cell_type": "markdown",
   "id": "e78389a6",
   "metadata": {},
   "source": [
    "# 2.2 Statistical Analysis between Control and Experiment"
   ]
  },
  {
   "cell_type": "code",
   "execution_count": 18,
   "id": "dac05d35",
   "metadata": {},
   "outputs": [
    {
     "name": "stdout",
     "output_type": "stream",
     "text": [
      "Invitro and Invivo Leven's test p-value = 0.022988429856619363\n",
      "Change T-test to Welch's T-test\n",
      "Invitro and Invivo T-test p-value = 0.5197440576972358\n"
     ]
    }
   ],
   "source": [
    "sa.stat_test(raw_df, rppm_mean_df, test = \"auto\", replicates = False)"
   ]
  },
  {
   "cell_type": "code",
   "execution_count": 19,
   "id": "c1204d82",
   "metadata": {},
   "outputs": [
    {
     "name": "stdout",
     "output_type": "stream",
     "text": [
      "Invitro and Invivo Leven's test p-value = 0.0004668365483721273\n",
      "Change T-test to Welch's T-test\n",
      "Invitro and Invivo T-test p-value = 0.9272095992017314\n"
     ]
    }
   ],
   "source": [
    "genome_vitro = rppm_mean_df.loc[(rppm_mean_df.Invitro_genome_id == \"NC_016856.1\"), \n",
    "                                [\"Invitro_genome_id\", \"Invitro_start\", \"Invitro_end\", \"Invitro\"]]\n",
    "genome_vivo = rppm_mean_df.loc[(rppm_mean_df.Invivo_genome_id == \"NC_016856.1\"), \n",
    "                               [\"Invivo_genome_id\", \"Invivo_start\", \"Invivo_end\", \"Invivo\"]]\n",
    "\n",
    "genome_mean = pd.concat([genome_vitro.reset_index(drop = True), genome_vivo.reset_index(drop = True)], axis = 1)\n",
    "\n",
    "sa.stat_test(raw_df, genome_mean, test = \"auto\", replicates = False)"
   ]
  },
  {
   "cell_type": "code",
   "execution_count": 20,
   "id": "b992067f",
   "metadata": {},
   "outputs": [
    {
     "name": "stdout",
     "output_type": "stream",
     "text": [
      "Invitro and Invivo Leven's test p-value = 0.577008312998291\n",
      "Invitro and Invivo T-test p-value = 0.10890731605385026\n"
     ]
    }
   ],
   "source": [
    "plasmid_vitro = rppm_mean_df.loc[(rppm_mean_df.Invitro_genome_id == \"NC_016855.1\"), \n",
    "                                [\"Invitro_genome_id\", \"Invitro_start\", \"Invitro_end\", \"Invitro\"]]\n",
    "plasmid_vivo = rppm_mean_df.loc[(rppm_mean_df.Invivo_genome_id == \"NC_016855.1\"), \n",
    "                                [\"Invivo_genome_id\", \"Invivo_start\", \"Invivo_end\", \"Invivo\"]]\n",
    "plasmid_mean = pd.concat([plasmid_vitro.reset_index(drop = True), plasmid_vivo.reset_index(drop = True)], axis = 1)\n",
    "\n",
    "sa.stat_test(raw_df, plasmid_mean, test = \"auto\", replicates = False)"
   ]
  },
  {
   "cell_type": "markdown",
   "id": "ad43a443",
   "metadata": {},
   "source": [
    "# 3. Make DEseq2 reference peak file"
   ]
  },
  {
   "cell_type": "markdown",
   "id": "fdf96591",
   "metadata": {},
   "source": [
    "### make_DBPref(raw_df, rppm_df) ###\n",
    "\n",
    "1. **raw_df** = raw CSV file of NPC\n",
    "2. **rppm_df** = RPPM values of ChIP-mini or ChIP-exo samlpes inculding dulicates => converted to pickle and CSV files in the output dir  \n",
    "=> Make overlapping peaks file in the output directory  \n",
    "      1) test_DEseq2_common_peaks_ref.gff  \n",
    "      2) test_peak_rppm.pickle files  "
   ]
  },
  {
   "cell_type": "code",
   "execution_count": 21,
   "id": "4225b61c",
   "metadata": {},
   "outputs": [
    {
     "name": "stdout",
     "output_type": "stream",
     "text": [
      "Making reference peak file for DESeq2 is done :)\n"
     ]
    }
   ],
   "source": [
    "rppm_pickle = raw_df.output[0] + \"ChIP-mini_HNS_rppm.pickle\"\n",
    "dt.make_DBPref(raw_df, rppm_pickle)"
   ]
  },
  {
   "cell_type": "markdown",
   "id": "88ec09fd",
   "metadata": {},
   "source": [
    "## ----------------------------------------------------------------------------------------------------------------- ##\n",
    "                                                       ** Use DEseq2_cal script (R kernel) for DEseq2 after this code **"
   ]
  },
  {
   "cell_type": "markdown",
   "id": "30f4ad59",
   "metadata": {},
   "source": [
    "# 4. Merge DEseq2 result files with RPPM files"
   ]
  },
  {
   "cell_type": "markdown",
   "id": "75d504fd",
   "metadata": {},
   "source": [
    "### convert_DEseq2(peak_pickle, deg_dir, deg_result) ###\n",
    "\n",
    "1. **peak_pickle** = RPPM value\n",
    "2. **deg_dir** = RPPM values of ChIP-mini or ChIP-exo samlpes inculding dulicates => converted to pickle and CSV files in the output dir  \n",
    "3. **deg_result** = result file of DESeq2 generated by R script"
   ]
  },
  {
   "cell_type": "code",
   "execution_count": 22,
   "id": "bb8538fa",
   "metadata": {},
   "outputs": [
    {
     "name": "stdout",
     "output_type": "stream",
     "text": [
      "DEseq2 convertion is done :)\n"
     ]
    }
   ],
   "source": [
    "output_dir = raw_df.output[0]\n",
    "peak_pickle = output_dir + \"Invivo_peak_rppm.pickle\"\n",
    "deg_dir =  output_dir + \"/DEseq2/Invitro_Invivo_HNS_deg.csv\"\n",
    "deg_result = output_dir + \"/DEseq2/Final_Invitro_Invivo_HNS_deg.csv\"\n",
    "\n",
    "dt.convert_DEseq2(peak_pickle, deg_dir, deg_result)"
   ]
  },
  {
   "cell_type": "code",
   "execution_count": 23,
   "id": "9c6c5b27",
   "metadata": {},
   "outputs": [
    {
     "name": "stdout",
     "output_type": "stream",
     "text": [
      "DEseq2 convertion is done :)\n"
     ]
    }
   ],
   "source": [
    "total_dir =  output_dir + \"/DEseq2/Invitro_Invivo_HNS_total.csv\"\n",
    "total_result = output_dir + \"/DEseq2/Final_Invitro_Invivo_HNS_total.csv\"\n",
    "\n",
    "dt.convert_DEseq2(peak_pickle, total_dir, total_result)"
   ]
  },
  {
   "cell_type": "markdown",
   "id": "93a1bb4a",
   "metadata": {},
   "source": [
    "# 5. Make Peak intensity Plots"
   ]
  },
  {
   "cell_type": "markdown",
   "id": "3d0abe26",
   "metadata": {},
   "source": [
    "### make_boxplot(raw_df, rppm_mean_dir, result_name, log_scale, y_range, show_fliers)  ###\n",
    "**1. raw_df** = Raw CSV file of NPC  \n",
    "**2. rppm_mean_df** = RPPM mean dataframe or RPPM mean pickle file   \n",
    "**3. result_name** = Name of boxplot figure  \n",
    "**3. log_scale** = log10, log2, ln  (default = \"log10\")  \n",
    "**4. y_range** = Range of y axis, ex)) (0,100) (default = None)  \n",
    "**5. show_fliers** = True of False"
   ]
  },
  {
   "cell_type": "code",
   "execution_count": 24,
   "id": "e4772e0d",
   "metadata": {},
   "outputs": [],
   "source": [
    "rppm_mean_pickle = \"/home/joonyoung/share/ChIP-exo_optimization/RPPM/0.GitHub/output/ChIP-mini_HNS/ChIP-mini_HNS_mean_rppm.pickle\""
   ]
  },
  {
   "cell_type": "code",
   "execution_count": 26,
   "id": "b5ee1306",
   "metadata": {},
   "outputs": [
    {
     "data": {
      "image/png": "[encoded data removed]",
      "text/plain": [
       "<Figure size 432x288 with 1 Axes>"
      ]
     },
     "metadata": {
      "needs_background": "light"
     },
     "output_type": "display_data"
    },
    {
     "data": {
      "image/png": "[encoded data removed]",
      "text/plain": [
       "<Figure size 432x288 with 1 Axes>"
      ]
     },
     "metadata": {
      "needs_background": "light"
     },
     "output_type": "display_data"
    },
    {
     "name": "stdout",
     "output_type": "stream",
     "text": [
      "Making a Boxplot (Log10) is done :)\n"
     ]
    }
   ],
   "source": [
    "boxplot_dir = test_name\n",
    "pt.make_boxplot(raw_df, rppm_mean_pickle, boxplot_dir, log_scale = \"log10\", y_range = (0,5), show_fliers= True)"
   ]
  },
  {
   "cell_type": "code",
   "execution_count": 27,
   "id": "b9923dd6",
   "metadata": {
    "collapsed": true
   },
   "outputs": [
    {
     "data": {
      "image/png": "[encoded data removed]",
      "text/plain": [
       "<Figure size 432x288 with 1 Axes>"
      ]
     },
     "metadata": {
      "needs_background": "light"
     },
     "output_type": "display_data"
    },
    {
     "data": {
      "image/png": "[encoded data removed]",
      "text/plain": [
       "<Figure size 432x288 with 1 Axes>"
      ]
     },
     "metadata": {
      "needs_background": "light"
     },
     "output_type": "display_data"
    },
    {
     "name": "stdout",
     "output_type": "stream",
     "text": [
      "Making a Boxplot (Log10) is done :)\n"
     ]
    }
   ],
   "source": [
    "g_boxplot_dir = test_name + \"_genome\"\n",
    "pt.make_boxplot(raw_df, genome_mean, g_boxplot_dir, log_scale = \"log10\", show_fliers= True)"
   ]
  },
  {
   "cell_type": "code",
   "execution_count": 29,
   "id": "11cc1d56",
   "metadata": {
    "collapsed": true
   },
   "outputs": [
    {
     "data": {
      "image/png": "[encoded data removed]",
      "text/plain": [
       "<Figure size 432x288 with 1 Axes>"
      ]
     },
     "metadata": {
      "needs_background": "light"
     },
     "output_type": "display_data"
    },
    {
     "data": {
      "image/png": "[encoded data removed]",
      "text/plain": [
       "<Figure size 432x288 with 1 Axes>"
      ]
     },
     "metadata": {
      "needs_background": "light"
     },
     "output_type": "display_data"
    },
    {
     "name": "stdout",
     "output_type": "stream",
     "text": [
      "Making a Boxplot (Log10) is done :)\n"
     ]
    }
   ],
   "source": [
    "p_boxplot_dir = test_name + \"_plasmid\"\n",
    "pt.make_boxplot(raw_df, plasmid_mean, p_boxplot_dir, log_scale = \"log10\", show_fliers= True)"
   ]
  },
  {
   "cell_type": "markdown",
   "id": "dd56756a",
   "metadata": {},
   "source": [
    "### make_scatterplot(raw_df, rppm_mean_dir, replicates = False, stat = \"pearson\")  ###\n",
    "**1. raw_df** = Raw CSV file of NPC  \n",
    "**2. rppm_mean_dir** = RPPM dataframe or XXX_rppm.picke for replicates, XXX_mean_peak.pickle file for comparision of control and samples.  \n",
    "**3. replicates** = type of scatter plot (default = False)  \n",
    "**4. stat** = pearson or spearman (default = \"pearson\")  "
   ]
  },
  {
   "cell_type": "code",
   "execution_count": 30,
   "id": "1073e15e",
   "metadata": {},
   "outputs": [
    {
     "data": {
      "image/png": "[encoded data removed]",
      "text/plain": [
       "<Figure size 432x288 with 1 Axes>"
      ]
     },
     "metadata": {
      "needs_background": "light"
     },
     "output_type": "display_data"
    },
    {
     "name": "stdout",
     "output_type": "stream",
     "text": [
      "pearson p-value  (0.9993921037844481, 0.0)\n"
     ]
    },
    {
     "data": {
      "image/png": "[encoded data removed]",
      "text/plain": [
       "<Figure size 432x288 with 1 Axes>"
      ]
     },
     "metadata": {
      "needs_background": "light"
     },
     "output_type": "display_data"
    },
    {
     "name": "stdout",
     "output_type": "stream",
     "text": [
      "pearson p-value  (0.9974772531144206, 0.0)\n"
     ]
    }
   ],
   "source": [
    "rppm_dir =  \"/home/joonyoung/share/ChIP-exo_optimization/RPPM/0.GitHub/output/ChIP-mini_HNS/ChIP-mini_HNS_rppm.pickle\"\n",
    "pt.make_scatterplot(raw_df, rppm_dir, replicates = True)"
   ]
  },
  {
   "cell_type": "code",
   "execution_count": 31,
   "id": "13ea5ab6",
   "metadata": {},
   "outputs": [
    {
     "name": "stdout",
     "output_type": "stream",
     "text": [
      "The number of common is 642\n"
     ]
    },
    {
     "data": {
      "image/png": "[encoded data removed]",
      "text/plain": [
       "<Figure size 432x288 with 1 Axes>"
      ]
     },
     "metadata": {
      "needs_background": "light"
     },
     "output_type": "display_data"
    },
    {
     "name": "stdout",
     "output_type": "stream",
     "text": [
      "pearson p-value  (0.8177409104948521, 1.1389565753973267e-155)\n"
     ]
    }
   ],
   "source": [
    "rppm_mean_dir =  \"/home/joonyoung/share/ChIP-exo_optimization/RPPM/0.GitHub/output/ChIP-mini_HNS/ChIP-mini_HNS_mean_rppm.pickle\"\n",
    "pt.make_scatterplot(raw_df, rppm_mean_dir)"
   ]
  },
  {
   "cell_type": "markdown",
   "id": "20aac266",
   "metadata": {},
   "source": [
    "### make_heatmap(raw_df, rppm_mean_dir, fig_result_dir, color, size, font_size,  fig_type)  ###\n",
    "**1. raw_df** = raw CSV file of NPC  \n",
    "**2. rppm_mean_df** = RPPM mean dataframe or RPPM mean pickle file   \n",
    "**3. fig_result_dir** = directory of heatmap result file  \n",
    "**3. color** = color of heatmap (default = \"Reds\")  \n",
    "**4. size** = size of heatmap (default = (1,50))  \n",
    "**4. font_size** = font size of heatmap  (default = 4)  \n",
    "**4. fig_type** = type of heatmap save file  (default = \"svg)"
   ]
  },
  {
   "cell_type": "code",
   "execution_count": 32,
   "id": "e91f49af",
   "metadata": {},
   "outputs": [
    {
     "name": "stdout",
     "output_type": "stream",
     "text": [
      "The number of common is 642\n",
      "Making a Heatmap is done :)\n"
     ]
    }
   ],
   "source": [
    "heatmap_dir = \"HNS_heatmap\"\n",
    "pt.make_heatmap(raw_df, rppm_mean_dir, heatmap_dir)"
   ]
  },
  {
   "cell_type": "markdown",
   "id": "a542368d",
   "metadata": {},
   "source": [
    "### make_volcano(raw_df, converted_deg_dir, fig_result_dir, test, lfc_thr, test_thr, peak_names, lengend, fig_type) ###\n",
    "\n",
    "1. **raw_df** = raw CSV file of NPC  \n",
    "2. **converted_deg_dir** = converted DEseq files inculding RPPM values\n",
    "3. **fig_result_dir** = directory of volcano plot result figure\n",
    "4. **test** = type of statical value (p-value, q-value, default = \"q-value\" )\n",
    "5. **lfc_thr** = threshold of log2 fold change (default = 1.0)\n",
    "6. **test_thr** = threshold of p-value or q-value (default = 0.05)\n",
    "7. **peak_names** = plotting each peak name on the plot (tuple of peak name, default = None)\n",
    "8. **lengend** = plotting legend on the plot (default = True)\n",
    "9. **fig_type** = type of heatmap save file (default = \"svg)"
   ]
  },
  {
   "cell_type": "code",
   "execution_count": 35,
   "id": "12f02fe7",
   "metadata": {},
   "outputs": [
    {
     "name": "stdout",
     "output_type": "stream",
     "text": [
      "Making a volcano plot is done :)\n"
     ]
    }
   ],
   "source": [
    "output_dir = raw_df.output[0]\n",
    "converted_deg_dir = output_dir + \"Deseq2/Final_Invitro_Invivo_HNS_total.csv\"\n",
    "result_name = \"/Invitro_Invivo_HNS_volcano\"\n",
    "\n",
    "peak_names=(\"Peak_0057\", \"Peak_0147\", \"Peak_0540\", \"Peak_0008\")\n",
    "\n",
    "pt.make_volcano(raw_df, converted_deg_dir, result_name, test = \"q-value\", lfc_thr = 1.0, test_thr = 0.05, peak_names = peak_names, fig_type= \"svg\")"
   ]
  },
  {
   "cell_type": "code",
   "execution_count": null,
   "id": "e22bba8c",
   "metadata": {},
   "outputs": [],
   "source": []
  }
 ],
 "metadata": {
  "kernelspec": {
   "display_name": "Python 3",
   "language": "python",
   "name": "python3"
  },
  "language_info": {
   "codemirror_mode": {
    "name": "ipython",
    "version": 3
   },
   "file_extension": ".py",
   "mimetype": "text/x-python",
   "name": "python",
   "nbconvert_exporter": "python",
   "pygments_lexer": "ipython3",
   "version": "3.7.4"
  }
 },
 "nbformat": 4,
 "nbformat_minor": 5
}
